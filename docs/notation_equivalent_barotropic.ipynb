{
 "cells": [
  {
   "cell_type": "markdown",
   "metadata": {},
   "source": [
    "# The equivalent barotropic quasigeostrophic model"
   ]
  },
  {
   "cell_type": "markdown",
   "metadata": {},
   "source": [
    "The equivalent barotropic quasigeostrophy evolution equations is"
   ]
  },
  {
   "cell_type": "markdown",
   "metadata": {},
   "source": [
    "\\begin{equation}\n",
    "\\tag{1}\n",
    "\\partial_t\\,{q} + \\mathsf{J}\\left(\\psi\\,, q\\right) + \\beta\\, {\\psi}_x = \\text{ssd} \\,,\n",
    "\\end{equation}"
   ]
  },
  {
   "cell_type": "markdown",
   "metadata": {},
   "source": [
    "The potential vorticity anomaly is\n",
    "\\begin{equation}\n",
    "\\tag{2}\n",
    "{q} = \\nabla^2\\psi - \\kappa_d^2 \\psi\\,,\n",
    "\\end{equation}\n",
    "\n",
    "where $\\kappa_d^2$ is the deformation wavenumber. With $\\kappa_d = \\beta = 0$ we recover the 2D vorticity equation."
   ]
  },
  {
   "cell_type": "markdown",
   "metadata": {},
   "source": [
    "The inversion relationship in Fourier space is\n",
    "\n",
    "\\begin{equation}\n",
    "\\tag{2}\n",
    "\\hat{q} = -\\left(\\kappa + \\kappa_d^2\\right) \\hat{\\psi}\\,.\n",
    "\\end{equation}"
   ]
  },
  {
   "cell_type": "markdown",
   "metadata": {},
   "source": [
    "The system is marched forward in time similarly to the two-layer model."
   ]
  },
  {
   "cell_type": "code",
   "execution_count": null,
   "metadata": {
    "collapsed": true
   },
   "outputs": [],
   "source": []
  },
  {
   "cell_type": "code",
   "execution_count": null,
   "metadata": {
    "collapsed": true
   },
   "outputs": [],
   "source": []
  }
 ],
 "metadata": {
  "kernelspec": {
   "display_name": "Python 2",
   "language": "python",
   "name": "python2"
  },
  "language_info": {
   "codemirror_mode": {
    "name": "ipython",
    "version": 2
   },
   "file_extension": ".py",
   "mimetype": "text/x-python",
   "name": "python",
   "nbconvert_exporter": "python",
   "pygments_lexer": "ipython2",
   "version": "2.7.9"
  }
 },
 "nbformat": 4,
 "nbformat_minor": 0
}
