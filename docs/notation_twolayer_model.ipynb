{
 "cells": [
  {
   "cell_type": "markdown",
   "metadata": {},
   "source": [
    "# The two-layer quasigeostrophic model"
   ]
  },
  {
   "cell_type": "markdown",
   "metadata": {},
   "source": [
    "The two-layer quasigeostrophy evolution equations are"
   ]
  },
  {
   "cell_type": "markdown",
   "metadata": {},
   "source": [
    "\\begin{equation}\n",
    "\\tag{1}\n",
    "\\partial_t\\,{q_1} + \\mathsf{J}\\left(\\psi_1\\,, q_1\\right) + \\beta\\, {\\psi_1}_x = \\text{ssd} \\,,\n",
    "\\end{equation}\n",
    "and\n",
    "\\begin{equation}\n",
    "\\tag{2}\n",
    "\\partial_t\\,{q_2} + \\mathsf{J}\\left(\\psi_2\\,, q_2\\right)+ \\beta\\, {\\psi_2}_x = -r_{ek}\\nabla^2 \\psi_2 + \\text{ssd}\\,,\n",
    "\\end{equation}\n",
    "\n",
    "where the horizontal Jacobian is $\\mathsf{J}\\left(A\\,, B\\right) = A_x B_y - A_y B_x$. Also in (1) and (2) ssd denotes small-scale dissipation (in turbulence regimes, ssd absorbs enstrophy that cascates towards small scales). The linear bottom drag in (2) dissipates large-scale energy."
   ]
  },
  {
   "cell_type": "markdown",
   "metadata": {},
   "source": [
    "The potential vorticities are\n",
    "\\begin{equation}\n",
    "\\tag{3}\n",
    "{q_1} = \\nabla^2\\psi_1 + F_1\\left(\\psi_2 - \\psi_1\\right)\\,,\n",
    "\\end{equation}\n",
    "and\n",
    "\\begin{equation}\n",
    "\\tag{4}\n",
    "{q_2} = \\nabla^2\\psi_2 + F_2\\left(\\psi_1 - \\psi_2\\right)\\,,\n",
    "\\end{equation}"
   ]
  },
  {
   "cell_type": "markdown",
   "metadata": {},
   "source": [
    "where\n",
    "\\begin{equation}\n",
    "\\tag{5}\n",
    "F_1 = \\frac{k_d^2}{1 + \\delta^2}\\,, \\qquad \\text{and} \\qquad F_2 = \\delta \\,F_1\\,,\n",
    "\\end{equation}\n",
    "\n",
    "with the deformation wavenumber\n",
    "\\begin{equation}\n",
    "\\tag{6}\n",
    "k_d^2 \\equiv\\frac{f_0^2}{g}\\frac{H_1+H_2}{H_1 H_2}\n",
    "\\end{equation}"
   ]
  },
  {
   "cell_type": "markdown",
   "metadata": {},
   "source": [
    "\n"
   ]
  },
  {
   "cell_type": "markdown",
   "metadata": {},
   "source": [
    "## Forced-dissipative equations"
   ]
  },
  {
   "cell_type": "markdown",
   "metadata": {},
   "source": [
    "We are interested in flows driven by baroclinic instabilty of a base-state shear $U_1-U_2$. In this case the evolution equations (1) and (2) become\n",
    "\n",
    "\\begin{equation}\n",
    "\\tag{7}\n",
    "\\partial_t\\,{q_1} + \\mathsf{J}\\left(\\psi_1\\,, q_1\\right) + \\beta_1\\, {\\psi_1}_x = \\text{ssd} \\,,\n",
    "\\end{equation}\n",
    "and\n",
    "\\begin{equation}\n",
    "\\tag{8}\n",
    "\\partial_t\\,{q_2} + \\mathsf{J}\\left(\\psi_2\\,, q_2\\right)+ \\beta_2\\, {\\psi_2}_x = -r_{ek}\\nabla^2 \\psi_2 + \\text{ssd}\\,,\n",
    "\\end{equation}\n",
    "\n",
    "where the mean potential vorticity gradients are\n",
    "\n",
    "\\begin{equation}\n",
    "\\tag{9}\n",
    "\\beta_1 = \\beta + F_1\\,\\left(U_1 - U_2\\right)\\,, \\qquad \\text{and} \\qquad \\beta_2 = \\beta - F_2\\,\\left( U_1 - U_2\\right)\\,.\n",
    "\\end{equation}"
   ]
  },
  {
   "cell_type": "markdown",
   "metadata": {
    "collapsed": true
   },
   "source": [
    "## Equations in Fourier space"
   ]
  },
  {
   "cell_type": "markdown",
   "metadata": {
    "collapsed": true
   },
   "source": [
    "We solve the two-layer QG system using a pseudo-spectral doubly-peridioc model. Fourier transforming the evolutions equations (9)-(10)\n",
    "\n",
    "\\begin{equation}\n",
    "\\tag{10}\n",
    "\\partial_t\\,{\\hat{q}_1} = - \\hat{\\mathsf{J}}\\left(\\psi_1\\,, q_1\\right) - \\text{i}\\,k\\, \\beta_1\\, {\\hat{\\psi}_1} + \\hat{\\text{ssd}} \\,,\n",
    "\\end{equation}\n",
    "and\n",
    "\\begin{equation}\n",
    "\\tag{11}\n",
    "\\partial_t\\,{\\hat{q}_2} = \\hat{\\mathsf{J}}\\left(\\psi_2\\,, q_2\\right)- \\beta_2\\, \\text{i}\\,k\\, {\\hat{\\psi}_2}  + r_{ek}\\,\\kappa^2\\,\\, \\hat{\\psi}_2 + \\hat{\\text{ssd}}\\,,\n",
    "\\end{equation}\n",
    "\n",
    "where, in the pseudo-spectral spirit, $\\hat{\\mathsf{J}}$ means the Fourier transform of the Jacobian i.e., we compute the products in physical space, and then transform to Fourier space."
   ]
  },
  {
   "cell_type": "markdown",
   "metadata": {},
   "source": [
    "In Fourier space the \"inversion relation\" (3)-(4) is\n",
    "\n",
    "\\begin{equation}\n",
    "\\tag{12}\n",
    "\\underbrace{\\begin{bmatrix}\n",
    "-(\\kappa^2 + F_1) \\qquad \\:\\:\\:\\:F_1\\\\\n",
    "\\:\\:\\:\\:\\:\\:\\:\\:\\:\\:\\:\\:\\:\\:\\:\\:\\:F_2 \\qquad - (\\kappa^2 + F_2)\n",
    "\\end{bmatrix}}_{\\equiv \\,\\mathsf{M_2}}\n",
    "\\begin{bmatrix}\n",
    "\\hat{\\psi}_1\\\\\n",
    "\\hat{\\psi}_2\\\\\n",
    "\\end{bmatrix}\n",
    "=\\begin{bmatrix}\n",
    "\\hat{q}_1\\\\\n",
    "\\hat{q}_2\\\\\n",
    "\\end{bmatrix}\n",
    "\\,,\n",
    "\\end{equation}\n",
    "\n",
    "or\n",
    "\n",
    "\\begin{equation}\n",
    "\\tag{13}\n",
    "\\begin{bmatrix}\n",
    "\\hat{\\psi}_1\\\\\n",
    "\\hat{\\psi}_2\\\\\n",
    "\\end{bmatrix}\n",
    "=\\underbrace{\\frac{1}{\\text{det}\\,\\mathrm{M_2}}\n",
    "\\begin{bmatrix}\n",
    "-(\\kappa^2 + F_2) \\qquad \\:\\:\\:\\:-F_1\\\\\n",
    "\\:\\:\\:\\:\\:\\:\\:\\:\\:\\:\\:\\:\\:\\:\\:\\:\\:-F_2 \\qquad - (\\kappa^2 + F_1)\n",
    "\\end{bmatrix}}_{=\\,\\mathsf{M_2}^{-1}}\n",
    "\\begin{bmatrix}\n",
    "\\hat{q}_1\\\\\n",
    "\\hat{q}_2\\\\\n",
    "\\end{bmatrix}\n",
    "\\,.\n",
    "\\end{equation}\n"
   ]
  },
  {
   "cell_type": "markdown",
   "metadata": {},
   "source": [
    "### Marching forward"
   ]
  },
  {
   "cell_type": "markdown",
   "metadata": {},
   "source": [
    "We use a third-order Adams-Bashford scheme \n",
    "\\begin{equation}\n",
    "\\tag{14}\n",
    "{\\hat{q}_i}^{n+1} = E_f\\times\\left[{\\hat{q}_i}^{n} + \\frac{\\Delta t}{2}\\left(23\\, \\hat{Q}_i^{n} -  16\\hat{Q}_i^{n-1} + 5 \\hat{Q}_i^{n-2}\\right)\\right]\\,,\n",
    "\\end{equation}\n",
    "where\n",
    "\\begin{equation}\n",
    "\\tag{15}\n",
    " \\hat{Q}_i^n \\equiv - \\hat{\\mathsf{J}}\\left(\\psi_i^n\\,, q_i^n\\right) - \\text{i}\\,k\\, \\beta_i\\, {\\hat{\\psi}_i^n}, \\qquad i = 1,2\\,.\n",
    "\\end{equation}\n",
    "\n",
    "The AB3 is initialized with a first-order AB (or forward Euler)\n",
    "\\begin{equation}\n",
    "\\tag{14}\n",
    "{\\hat{q}_i}^{1} = E_f\\times\\left[{\\hat{q}_i}^{0} + \\Delta t \\hat{Q}_i^{0}\\right]\\,,\n",
    "\\end{equation}\n",
    "The second step uses a second-order AB scheme\n",
    "\\begin{equation}\n",
    "\\tag{14}\n",
    "{\\hat{q}_i}^{2} = E_f\\times\\left[{\\hat{q}_i}^{1} + \\frac{\\Delta t}{12}\\left(23\\, \\hat{Q}_i^{1} -  \\hat{Q}_i^0\\right)\\right]\\,.\n",
    "\\end{equation}\n"
   ]
  },
  {
   "cell_type": "markdown",
   "metadata": {},
   "source": [
    "The small-scale dissipation is achieve by a highly-selective exponential filter\n",
    "\n",
    "\\begin{equation}\n",
    "\\tag{16}\n",
    "E_f =\\begin{cases} \\text{e}^{-23.6\\,\\left(\\kappa^{\\star} - \\kappa_c\\right)^4}: &\\qquad \\kappa \\ge\\kappa_c\\\\\n",
    "\\,\\,\\,\\,\\,\\,\\,\\,\\,\\,\\,1:&\\qquad \\text{otherwise}\\,.\n",
    "\\end{cases}\n",
    "\\end{equation}\n",
    "\n",
    "where the non-dimensional wavenumber is\n",
    "\\begin{equation}\n",
    "\\tag{17}\n",
    "\\kappa^{\\star} \\equiv \\sqrt{ (k\\,\\Delta x)^2 + (l\\,\\Delta y)^2 }\\, ,\n",
    "\\end{equation}\n",
    "\n",
    "and $\\kappa_c$ is a (non-dimensional) wavenumber cutoff here taken as $65\\%$ of the Nyquist scale $\\kappa^{\\star}_{ny} = \\pi$. The parameter $-23.6$ is obtained from the requirement that the energy at the largest wanumber ($\\kappa^{\\star} = \\pi$) be zero whithin machine double precision:\n",
    "\n",
    "\\begin{equation}\n",
    "\\tag{18}\n",
    "\\frac{\\log 10^{-15}}{(0.35\\, \\pi)^4} \\approx -23.5\\,.\n",
    "\\end{equation}\n",
    "\n",
    "For experiments with $\\hat{q_i}<<\\mathcal{O}(1)$ one can use a larger constant."
   ]
  },
  {
   "cell_type": "code",
   "execution_count": null,
   "metadata": {
    "collapsed": true
   },
   "outputs": [],
   "source": []
  },
  {
   "cell_type": "code",
   "execution_count": null,
   "metadata": {
    "collapsed": true
   },
   "outputs": [],
   "source": []
  }
 ],
 "metadata": {
  "kernelspec": {
   "display_name": "Python 2",
   "language": "python",
   "name": "python2"
  },
  "language_info": {
   "codemirror_mode": {
    "name": "ipython",
    "version": 2
   },
   "file_extension": ".py",
   "mimetype": "text/x-python",
   "name": "python",
   "nbconvert_exporter": "python",
   "pygments_lexer": "ipython2",
   "version": "2.7.9"
  }
 },
 "nbformat": 4,
 "nbformat_minor": 0
}
