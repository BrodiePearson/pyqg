{
 "cells": [
  {
   "cell_type": "markdown",
   "metadata": {},
   "source": [
    "# Surface Quasi-geostrophic Model"
   ]
  },
  {
   "cell_type": "markdown",
   "metadata": {},
   "source": [
    "Surface quasi-geostrophy (SQG) is a relatively simple model that describes surface intensified flows due to buoyancy. One of it's advantages is that it only has two spatial dimensions but describes a three-dimensional solution.\n",
    "\n",
    "If we define $b$ to be the buoyancy, then the evolution equation for buoyancy at each the top and bottom surface is\n",
    "$$\n",
    "\\partial_t b + J(\\psi, b) = 0.\n",
    "$$\n",
    "The invertibility relation between the streamfunction, $\\psi$, and the buoyancy, $b$, is hydrostatic balance\n",
    "$$\n",
    "b = \\partial_z \\psi. \n",
    "$$\n",
    "Using the fact that the Potential Vorticity is exactly zero in the interior of the domain and that the domain is semi-infinite, yields that the inversion in Fourier space is,\n",
    "$$\n",
    "\\hat b = K \\hat \\psi.\n",
    "$$"
   ]
  }
 ],
 "metadata": {
  "kernelspec": {
   "display_name": "Python 2",
   "language": "python",
   "name": "python2"
  },
  "language_info": {
   "codemirror_mode": {
    "name": "ipython",
    "version": 2
   },
   "file_extension": ".py",
   "mimetype": "text/x-python",
   "name": "python",
   "nbconvert_exporter": "python",
   "pygments_lexer": "ipython2",
   "version": "2.7.10"
  }
 },
 "nbformat": 4,
 "nbformat_minor": 0
}
